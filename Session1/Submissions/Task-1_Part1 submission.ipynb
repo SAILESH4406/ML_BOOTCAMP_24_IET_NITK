{
  "cells": [
    {
      "cell_type": "markdown",
      "metadata": {
        "id": "3cv4PHzIchH0"
      },
      "source": [
        "# 🧑‍🏫 Task 1 Part 1: Building a Spam Classifier with Naive Bayes\n",
        "In this exercise, you'll implement a spam classifier using the **Naive Bayes algorithm** . You'll work with email data to classify messages as spam or non-spam (ham). Follow the steps below and fill in the code where indicated.\n",
        "\n",
        "**Objective:** Implement all key components of an ML pipeline (except for data handling).\n",
        "\n",
        "**Allowed Libraries:** `pandas`, `numpy`\n",
        "\n",
        "**Not Allowed:** Any pre-built ML algorithms or functions like those from `sklearn`.\n",
        "\n",
        "Follow the instructions step-by-step and answer the questions!"
      ]
    },
    {
      "cell_type": "markdown",
      "metadata": {
        "id": "2doxMrI8chH2"
      },
      "source": [
        "## Step 1: Data Loading and Preprocessing\n",
        "First, let's load and examine our data."
      ]
    },
    {
      "cell_type": "markdown",
      "source": [],
      "metadata": {
        "id": "9a6lmM4ic6IJ"
      }
    },
    {
      "cell_type": "code",
      "execution_count": 7,
      "metadata": {
        "id": "MJ9t6x5echH2"
      },
      "outputs": [],
      "source": [
        "import pandas as pd\n",
        "emails = pd.read_csv('emails.csv')"
      ]
    },
    {
      "cell_type": "code",
      "execution_count": 8,
      "metadata": {
        "id": "Bbe3CIxqchH3",
        "outputId": "ac8fc47c-98dc-4707-87c9-8f9fcb1095d0",
        "colab": {
          "base_uri": "https://localhost:8080/",
          "height": 206
        }
      },
      "outputs": [
        {
          "output_type": "execute_result",
          "data": {
            "text/plain": [
              "                                                text  spam\n",
              "0  Subject: naturally irresistible your corporate...     1\n",
              "1  Subject: the stock trading gunslinger  fanny i...     1\n",
              "2  Subject: unbelievable new homes made easy  im ...     1\n",
              "3  Subject: 4 color printing special  request add...     1\n",
              "4  Subject: do not have money , get software cds ...     1"
            ],
            "text/html": [
              "\n",
              "  <div id=\"df-33fb709b-c7b2-4876-9d51-498bf1699857\" class=\"colab-df-container\">\n",
              "    <div>\n",
              "<style scoped>\n",
              "    .dataframe tbody tr th:only-of-type {\n",
              "        vertical-align: middle;\n",
              "    }\n",
              "\n",
              "    .dataframe tbody tr th {\n",
              "        vertical-align: top;\n",
              "    }\n",
              "\n",
              "    .dataframe thead th {\n",
              "        text-align: right;\n",
              "    }\n",
              "</style>\n",
              "<table border=\"1\" class=\"dataframe\">\n",
              "  <thead>\n",
              "    <tr style=\"text-align: right;\">\n",
              "      <th></th>\n",
              "      <th>text</th>\n",
              "      <th>spam</th>\n",
              "    </tr>\n",
              "  </thead>\n",
              "  <tbody>\n",
              "    <tr>\n",
              "      <th>0</th>\n",
              "      <td>Subject: naturally irresistible your corporate...</td>\n",
              "      <td>1</td>\n",
              "    </tr>\n",
              "    <tr>\n",
              "      <th>1</th>\n",
              "      <td>Subject: the stock trading gunslinger  fanny i...</td>\n",
              "      <td>1</td>\n",
              "    </tr>\n",
              "    <tr>\n",
              "      <th>2</th>\n",
              "      <td>Subject: unbelievable new homes made easy  im ...</td>\n",
              "      <td>1</td>\n",
              "    </tr>\n",
              "    <tr>\n",
              "      <th>3</th>\n",
              "      <td>Subject: 4 color printing special  request add...</td>\n",
              "      <td>1</td>\n",
              "    </tr>\n",
              "    <tr>\n",
              "      <th>4</th>\n",
              "      <td>Subject: do not have money , get software cds ...</td>\n",
              "      <td>1</td>\n",
              "    </tr>\n",
              "  </tbody>\n",
              "</table>\n",
              "</div>\n",
              "    <div class=\"colab-df-buttons\">\n",
              "\n",
              "  <div class=\"colab-df-container\">\n",
              "    <button class=\"colab-df-convert\" onclick=\"convertToInteractive('df-33fb709b-c7b2-4876-9d51-498bf1699857')\"\n",
              "            title=\"Convert this dataframe to an interactive table.\"\n",
              "            style=\"display:none;\">\n",
              "\n",
              "  <svg xmlns=\"http://www.w3.org/2000/svg\" height=\"24px\" viewBox=\"0 -960 960 960\">\n",
              "    <path d=\"M120-120v-720h720v720H120Zm60-500h600v-160H180v160Zm220 220h160v-160H400v160Zm0 220h160v-160H400v160ZM180-400h160v-160H180v160Zm440 0h160v-160H620v160ZM180-180h160v-160H180v160Zm440 0h160v-160H620v160Z\"/>\n",
              "  </svg>\n",
              "    </button>\n",
              "\n",
              "  <style>\n",
              "    .colab-df-container {\n",
              "      display:flex;\n",
              "      gap: 12px;\n",
              "    }\n",
              "\n",
              "    .colab-df-convert {\n",
              "      background-color: #E8F0FE;\n",
              "      border: none;\n",
              "      border-radius: 50%;\n",
              "      cursor: pointer;\n",
              "      display: none;\n",
              "      fill: #1967D2;\n",
              "      height: 32px;\n",
              "      padding: 0 0 0 0;\n",
              "      width: 32px;\n",
              "    }\n",
              "\n",
              "    .colab-df-convert:hover {\n",
              "      background-color: #E2EBFA;\n",
              "      box-shadow: 0px 1px 2px rgba(60, 64, 67, 0.3), 0px 1px 3px 1px rgba(60, 64, 67, 0.15);\n",
              "      fill: #174EA6;\n",
              "    }\n",
              "\n",
              "    .colab-df-buttons div {\n",
              "      margin-bottom: 4px;\n",
              "    }\n",
              "\n",
              "    [theme=dark] .colab-df-convert {\n",
              "      background-color: #3B4455;\n",
              "      fill: #D2E3FC;\n",
              "    }\n",
              "\n",
              "    [theme=dark] .colab-df-convert:hover {\n",
              "      background-color: #434B5C;\n",
              "      box-shadow: 0px 1px 3px 1px rgba(0, 0, 0, 0.15);\n",
              "      filter: drop-shadow(0px 1px 2px rgba(0, 0, 0, 0.3));\n",
              "      fill: #FFFFFF;\n",
              "    }\n",
              "  </style>\n",
              "\n",
              "    <script>\n",
              "      const buttonEl =\n",
              "        document.querySelector('#df-33fb709b-c7b2-4876-9d51-498bf1699857 button.colab-df-convert');\n",
              "      buttonEl.style.display =\n",
              "        google.colab.kernel.accessAllowed ? 'block' : 'none';\n",
              "\n",
              "      async function convertToInteractive(key) {\n",
              "        const element = document.querySelector('#df-33fb709b-c7b2-4876-9d51-498bf1699857');\n",
              "        const dataTable =\n",
              "          await google.colab.kernel.invokeFunction('convertToInteractive',\n",
              "                                                    [key], {});\n",
              "        if (!dataTable) return;\n",
              "\n",
              "        const docLinkHtml = 'Like what you see? Visit the ' +\n",
              "          '<a target=\"_blank\" href=https://colab.research.google.com/notebooks/data_table.ipynb>data table notebook</a>'\n",
              "          + ' to learn more about interactive tables.';\n",
              "        element.innerHTML = '';\n",
              "        dataTable['output_type'] = 'display_data';\n",
              "        await google.colab.output.renderOutput(dataTable, element);\n",
              "        const docLink = document.createElement('div');\n",
              "        docLink.innerHTML = docLinkHtml;\n",
              "        element.appendChild(docLink);\n",
              "      }\n",
              "    </script>\n",
              "  </div>\n",
              "\n",
              "\n",
              "<div id=\"df-3aacd212-f7c4-4182-8d82-d33cc23bf641\">\n",
              "  <button class=\"colab-df-quickchart\" onclick=\"quickchart('df-3aacd212-f7c4-4182-8d82-d33cc23bf641')\"\n",
              "            title=\"Suggest charts\"\n",
              "            style=\"display:none;\">\n",
              "\n",
              "<svg xmlns=\"http://www.w3.org/2000/svg\" height=\"24px\"viewBox=\"0 0 24 24\"\n",
              "     width=\"24px\">\n",
              "    <g>\n",
              "        <path d=\"M19 3H5c-1.1 0-2 .9-2 2v14c0 1.1.9 2 2 2h14c1.1 0 2-.9 2-2V5c0-1.1-.9-2-2-2zM9 17H7v-7h2v7zm4 0h-2V7h2v10zm4 0h-2v-4h2v4z\"/>\n",
              "    </g>\n",
              "</svg>\n",
              "  </button>\n",
              "\n",
              "<style>\n",
              "  .colab-df-quickchart {\n",
              "      --bg-color: #E8F0FE;\n",
              "      --fill-color: #1967D2;\n",
              "      --hover-bg-color: #E2EBFA;\n",
              "      --hover-fill-color: #174EA6;\n",
              "      --disabled-fill-color: #AAA;\n",
              "      --disabled-bg-color: #DDD;\n",
              "  }\n",
              "\n",
              "  [theme=dark] .colab-df-quickchart {\n",
              "      --bg-color: #3B4455;\n",
              "      --fill-color: #D2E3FC;\n",
              "      --hover-bg-color: #434B5C;\n",
              "      --hover-fill-color: #FFFFFF;\n",
              "      --disabled-bg-color: #3B4455;\n",
              "      --disabled-fill-color: #666;\n",
              "  }\n",
              "\n",
              "  .colab-df-quickchart {\n",
              "    background-color: var(--bg-color);\n",
              "    border: none;\n",
              "    border-radius: 50%;\n",
              "    cursor: pointer;\n",
              "    display: none;\n",
              "    fill: var(--fill-color);\n",
              "    height: 32px;\n",
              "    padding: 0;\n",
              "    width: 32px;\n",
              "  }\n",
              "\n",
              "  .colab-df-quickchart:hover {\n",
              "    background-color: var(--hover-bg-color);\n",
              "    box-shadow: 0 1px 2px rgba(60, 64, 67, 0.3), 0 1px 3px 1px rgba(60, 64, 67, 0.15);\n",
              "    fill: var(--button-hover-fill-color);\n",
              "  }\n",
              "\n",
              "  .colab-df-quickchart-complete:disabled,\n",
              "  .colab-df-quickchart-complete:disabled:hover {\n",
              "    background-color: var(--disabled-bg-color);\n",
              "    fill: var(--disabled-fill-color);\n",
              "    box-shadow: none;\n",
              "  }\n",
              "\n",
              "  .colab-df-spinner {\n",
              "    border: 2px solid var(--fill-color);\n",
              "    border-color: transparent;\n",
              "    border-bottom-color: var(--fill-color);\n",
              "    animation:\n",
              "      spin 1s steps(1) infinite;\n",
              "  }\n",
              "\n",
              "  @keyframes spin {\n",
              "    0% {\n",
              "      border-color: transparent;\n",
              "      border-bottom-color: var(--fill-color);\n",
              "      border-left-color: var(--fill-color);\n",
              "    }\n",
              "    20% {\n",
              "      border-color: transparent;\n",
              "      border-left-color: var(--fill-color);\n",
              "      border-top-color: var(--fill-color);\n",
              "    }\n",
              "    30% {\n",
              "      border-color: transparent;\n",
              "      border-left-color: var(--fill-color);\n",
              "      border-top-color: var(--fill-color);\n",
              "      border-right-color: var(--fill-color);\n",
              "    }\n",
              "    40% {\n",
              "      border-color: transparent;\n",
              "      border-right-color: var(--fill-color);\n",
              "      border-top-color: var(--fill-color);\n",
              "    }\n",
              "    60% {\n",
              "      border-color: transparent;\n",
              "      border-right-color: var(--fill-color);\n",
              "    }\n",
              "    80% {\n",
              "      border-color: transparent;\n",
              "      border-right-color: var(--fill-color);\n",
              "      border-bottom-color: var(--fill-color);\n",
              "    }\n",
              "    90% {\n",
              "      border-color: transparent;\n",
              "      border-bottom-color: var(--fill-color);\n",
              "    }\n",
              "  }\n",
              "</style>\n",
              "\n",
              "  <script>\n",
              "    async function quickchart(key) {\n",
              "      const quickchartButtonEl =\n",
              "        document.querySelector('#' + key + ' button');\n",
              "      quickchartButtonEl.disabled = true;  // To prevent multiple clicks.\n",
              "      quickchartButtonEl.classList.add('colab-df-spinner');\n",
              "      try {\n",
              "        const charts = await google.colab.kernel.invokeFunction(\n",
              "            'suggestCharts', [key], {});\n",
              "      } catch (error) {\n",
              "        console.error('Error during call to suggestCharts:', error);\n",
              "      }\n",
              "      quickchartButtonEl.classList.remove('colab-df-spinner');\n",
              "      quickchartButtonEl.classList.add('colab-df-quickchart-complete');\n",
              "    }\n",
              "    (() => {\n",
              "      let quickchartButtonEl =\n",
              "        document.querySelector('#df-3aacd212-f7c4-4182-8d82-d33cc23bf641 button');\n",
              "      quickchartButtonEl.style.display =\n",
              "        google.colab.kernel.accessAllowed ? 'block' : 'none';\n",
              "    })();\n",
              "  </script>\n",
              "</div>\n",
              "\n",
              "    </div>\n",
              "  </div>\n"
            ],
            "application/vnd.google.colaboratory.intrinsic+json": {
              "type": "dataframe",
              "variable_name": "emails",
              "summary": "{\n  \"name\": \"emails\",\n  \"rows\": 5728,\n  \"fields\": [\n    {\n      \"column\": \"text\",\n      \"properties\": {\n        \"dtype\": \"string\",\n        \"num_unique_values\": 5695,\n        \"samples\": [\n          \"Subject: eprm article  hi vince ,  ?  as always , it was good to see you again in houston - we all enjoyed the meal  very much , the restaurant was a good choice .  ?  it ' s that time again i ' m afraid . can you pls cast your eye over the  attached ? and , if at all possible , get back to me in the next few days - i  have to deliver something to london by friday .  ?  how ' s the course going at rice ? not too much work i hope .  ?  best regards .  ?  chris .  ?  - eprm _ 09 _ fwd _ vol _ estimation . doc\",\n          \"Subject: fluid analysis  our customer speak volumes about our spur m product  \\\" i just wanted to write and thank you for spur - m .  i suffered from poor sperm count and motility . i found  your site and ordered spur - m fertility blend for men .  i have wondered for years what caused low semen and sperm  count , and how i could improve my fertility and help my wife  conceive . spur - m seems to have done just that ! thank you  for your support . \\\"  andrew h . , london , uk  \\\" spur - m really does help improve fertility and effectiveness  of sperm and semen motility . i used it for the past few months ,  and not only does it work - i also feel better to . i have  more energy . this is an excellent counter to low sperm count  and motility . i ' ll be buying more ! ! ! \\\"  franz k . , bonn , germany  http : / / findgoodstuffhere . com / spur /  for removing , pls go here  http : / / findgoodstuffhere . com / rm . php\",\n          \"Subject: re : liquids limits oct . 20  john :  i will be here most of the week , and am looking forward to working with niamh  c . i will also check the availability of people in vince k . group as well as  naveen andrews in ours .  regards  bjorn h .  john l nowlan  24 / 10 / 2000 10 : 32  to : bjorn hagelmann / hou / ect @ ect  cc : ted murphy / hou / ect @ ect  subject : re : liquids limits oct . 20  bjorn , niamh clarke is going to come to houston from mon afternoon to friday  next week to work on nvar . she developed var models for mitsubishi and has  lots of experience in this area . can you please provide her with the best  people we can from research and rac so we can try and get a better  understanding and more confidence in our model . i ' m sure you agree with me  that if my group is going to make any progress we need to get this sorted .  thanks in advance .  - - - - - - - - - - - - - - - - - - - - - - forwarded by john l nowlan / hou / ect on 10 / 24 / 2000 09 : 51  am - - - - - - - - - - - - - - - - - - - - - - - - - - -  from : bjorn hagelmann  10 / 24 / 2000 07 : 31 am  to : john l nowlan / hou / ect @ ect  cc : scott earnest / hou / ect @ ect  subject : re : liquids limits oct . 20  i think we need to sit down and talk about developing reporting that will  show the risk in the books . at this point and time it can be derived , but  only if you know what to look for . i would appreciate if you had some time to  do so .  regards  bjorn h  john l nowlan  23 / 10 / 2000 13 : 10  to : christian lebroc / corp / enron @ enron , scott earnest / hou / ect @ ect , bjorn  hagelmann / hou / ect @ ect  cc :  subject : re : liquids limits oct . 20  looking at these numbers i think the var model must be waaaaaaaaaay over  calcing something , most likely the spreads . the net and outright product  position are negligible . seems it would take one hell of a daily move to  loose 12 . 7 on these positions .\"\n        ],\n        \"semantic_type\": \"\",\n        \"description\": \"\"\n      }\n    },\n    {\n      \"column\": \"spam\",\n      \"properties\": {\n        \"dtype\": \"number\",\n        \"std\": 0,\n        \"min\": 0,\n        \"max\": 1,\n        \"num_unique_values\": 2,\n        \"samples\": [\n          0,\n          1\n        ],\n        \"semantic_type\": \"\",\n        \"description\": \"\"\n      }\n    }\n  ]\n}"
            }
          },
          "metadata": {},
          "execution_count": 8
        }
      ],
      "source": [
        "emails.head()"
      ]
    },
    {
      "cell_type": "code",
      "execution_count": 9,
      "metadata": {
        "id": "NHFjL0nZchH4",
        "outputId": "dd0a5cfd-22ac-4cd1-ae88-82ab4aec6307",
        "colab": {
          "base_uri": "https://localhost:8080/"
        }
      },
      "outputs": [
        {
          "output_type": "stream",
          "name": "stdout",
          "text": [
            "text    0\n",
            "spam    0\n",
            "dtype: int64\n",
            "Missing values in 'text': 0\n",
            "Missing values in 'spam': 0\n"
          ]
        }
      ],
      "source": [
        "\n",
        "missing_values = emails.isnull().sum()\n",
        "print(missing_values)\n",
        "\n",
        "missing_text = emails['text'].isnull().sum()\n",
        "missing_spam = emails['spam'].isnull().sum()\n",
        "print(f\"Missing values in 'text': {missing_text}\")\n",
        "print(f\"Missing values in 'spam': {missing_spam}\")"
      ]
    },
    {
      "cell_type": "markdown",
      "metadata": {
        "id": "ZgwrhQzdchH5"
      },
      "source": [
        "## Step 2: Text Preprocessing\n",
        "We need to process each email to extract unique words."
      ]
    },
    {
      "cell_type": "code",
      "execution_count": 10,
      "metadata": {
        "id": "rKrlRp23chH5"
      },
      "outputs": [],
      "source": [
        "def process_email(text):\n",
        "\n",
        "\n",
        "\n",
        "    text = text.lower()\n",
        "\n",
        "    words = text.split()\n",
        "\n",
        "    unique_words = list(set(words))\n",
        "    return unique_words\n",
        "\n",
        "    pass"
      ]
    },
    {
      "cell_type": "code",
      "execution_count": 11,
      "metadata": {
        "id": "mWhjOu0zchH5"
      },
      "outputs": [],
      "source": [
        "\n",
        "emails['words'] = emails['text'].apply(process_email)\n"
      ]
    },
    {
      "cell_type": "code",
      "execution_count": 12,
      "metadata": {
        "id": "l2vH79fqchH5",
        "outputId": "b78fa0a7-0e87-4884-a934-164d52904e53",
        "colab": {
          "base_uri": "https://localhost:8080/"
        }
      },
      "outputs": [
        {
          "output_type": "stream",
          "name": "stdout",
          "text": [
            "['shouldn', 'structure', 'subject:', '.', 'marketing', ':', 'fees', 'world', 'efforts', 'gaps', 'identity', 'information', 't', 'see', 'organization', 'more', 'much', 'break', 'are', '100', 'without', 'three', 'recollect', 'isoverwhelminq', 'catchy', 'nowadays', 'hard', 'company', 'original', '%', 'stationery', 'you', 'that', 'your', 'market', 'satisfaction', ',', 'be', 'and', 'clear', 'affordability', 'our', 'practicable', 'of', '-', 'drafts', 'have', ';', 'lt', 'not', 'budget', 'the', 'hand', 'provided', 'is', 'make', 'list', 'its', 'formats', 'within', 'easier', 'isguite', 'result', \"'\", 'interested', 'look', 'love', 'good', 'provide', 'specially', 'ieader', 'it', 'naturally', 'logos', '_', 'automaticaily', 'all', 'full', 'done', 'products', 'system', 'through', 'promise', 'convenience', 'portfolio', 'benefits', 'to', 'distinctive', 'for', 'statlonery', 'with', 'change', 'do', 'made', 'in', 'extra', 'guaranteed', 'this', 'ordered', 'reflect', 'ciear', 'surethat', 'here', 'but', 'business', 'stylish', 'irresistible', 'easy', 'letsyou', 'really', 'task', 'unlimited', 'creativeness', 'website', 'at', 'hotat', 'promptness', 'outstanding', 'no', 'management', 'iogo', 'become', 'effective', 'image', 'days', 'use', 'will', 'we', 'even', 'logo', 'a', 'havinq', 'aim', 'suqgestions', 'amount', 'collaboration', 'corporate', 'changes', 'content']\n"
          ]
        }
      ],
      "source": [
        "\n",
        "first_email_text = emails['text'][0]\n",
        "\n",
        "\n",
        "processed_words = process_email(first_email_text)\n",
        "\n",
        "print(processed_words)\n"
      ]
    },
    {
      "cell_type": "markdown",
      "metadata": {
        "id": "NUyE_4zochH5"
      },
      "source": [
        "## Step 3: Calculate Prior Probabilities\n",
        "Let's calculate the basic probability of an email being spam."
      ]
    },
    {
      "cell_type": "code",
      "execution_count": 13,
      "metadata": {
        "id": "O3zgDvbfchH6",
        "outputId": "e5394ab2-58ee-4b59-a787-0990b8392628",
        "colab": {
          "base_uri": "https://localhost:8080/"
        }
      },
      "outputs": [
        {
          "output_type": "stream",
          "name": "stdout",
          "text": [
            "Number of emails: 5728\n",
            "Number of spam emails: 1368\n",
            "Probability of spam: 0.2388\n"
          ]
        }
      ],
      "source": [
        "\n",
        "num_emails = len(emails)\n",
        "\n",
        "\n",
        "num_spam = sum(emails['spam'])\n",
        "\n",
        "spam_probability = num_spam / num_emails\n",
        "\n",
        "print(f\"Number of emails: {num_emails}\")\n",
        "print(f\"Number of spam emails: {num_spam}\")\n",
        "print(f\"Probability of spam: {spam_probability:.4f}\")\n",
        "\n"
      ]
    },
    {
      "cell_type": "markdown",
      "metadata": {
        "id": "8SXAUrK_chH6"
      },
      "source": [
        "## Step 4: Training the Model\n",
        "Now we'll build our Naive Bayes model by counting word occurrences in spam and ham emails."
      ]
    },
    {
      "cell_type": "code",
      "execution_count": 14,
      "metadata": {
        "id": "GAmFy_cIchH6"
      },
      "outputs": [],
      "source": [
        "def train_naive_bayes(emails_data):\n",
        "\n",
        "\n",
        "    model = {}\n",
        "\n",
        "    for index, row in emails_data.iterrows():\n",
        "        words = row['words']\n",
        "        is_spam = row['spam']\n",
        "\n",
        "\n",
        "        for word in words:\n",
        "            if word not in model:\n",
        "                model[word] = {'spam': 1, 'ham': 1}\n",
        "\n",
        "            if is_spam:\n",
        "                model[word]['spam'] += 1\n",
        "            else:\n",
        "                model[word]['ham'] += 1\n",
        "\n",
        "\n",
        "    return model"
      ]
    },
    {
      "cell_type": "code",
      "execution_count": 15,
      "metadata": {
        "id": "2OkF4uDXchH6"
      },
      "outputs": [],
      "source": [
        "model = train_naive_bayes(emails)"
      ]
    },
    {
      "cell_type": "code",
      "execution_count": 16,
      "metadata": {
        "id": "Sktze6v_chH6",
        "outputId": "f287bebe-2659-452f-b5bd-1002bd6dee58",
        "colab": {
          "base_uri": "https://localhost:8080/"
        }
      },
      "outputs": [
        {
          "output_type": "stream",
          "name": "stdout",
          "text": [
            "Word: lottery\n",
            "Spam count: 9\n",
            "Ham count: 1\n"
          ]
        }
      ],
      "source": [
        "\n",
        "if \"lottery\" in model:\n",
        "    print(f\"Word: lottery\")\n",
        "    print(f\"Spam count: {model['lottery']['spam']}\")\n",
        "    print(f\"Ham count: {model['lottery']['ham']}\")\n",
        "else:\n",
        "    print(\"Word 'lottery' not found in the model.\")\n",
        "\n"
      ]
    },
    {
      "cell_type": "markdown",
      "metadata": {
        "id": "1h_PZtvhchH6"
      },
      "source": [
        "## Step 5: Implementing the Prediction Function\n",
        "Finally, let's implement the function to predict whether an email is spam."
      ]
    },
    {
      "cell_type": "code",
      "execution_count": 17,
      "metadata": {
        "id": "ESmJu_1RchH6"
      },
      "outputs": [],
      "source": [
        "import math\n",
        "\n",
        "def predict_naive_bayes(email_text, model, num_spam, num_ham):\n",
        "\n",
        "    words = process_email(email_text)\n",
        "\n",
        "\n",
        "    log_prob_spam = math.log(num_spam / (num_spam + num_ham))\n",
        "    log_prob_ham = math.log(num_ham / (num_spam + num_ham))\n",
        "\n",
        "    for word in words:\n",
        "        if word in model:\n",
        "            log_prob_spam += math.log(model[word]['spam'] / num_spam)\n",
        "            log_prob_ham += math.log(model[word]['ham'] / num_ham)\n",
        "\n",
        "\n",
        "    prob_spam = math.exp(log_prob_spam) / (math.exp(log_prob_spam) + math.exp(log_prob_ham))\n",
        "\n",
        "    return prob_spam\n",
        "    pass"
      ]
    },
    {
      "cell_type": "code",
      "execution_count": 18,
      "metadata": {
        "id": "o3rNW6rochH6",
        "outputId": "ac65a3f9-4835-4b1b-90e0-c4b863811479",
        "colab": {
          "base_uri": "https://localhost:8080/"
        }
      },
      "outputs": [
        {
          "output_type": "stream",
          "name": "stdout",
          "text": [
            "Email: lottery winner claim prize money\n",
            "Probability of spam: 0.9999\n",
            "Email: meeting tomorrow at 3pm\n",
            "Probability of spam: 0.0013\n",
            "Email: buy cheap watches online\n",
            "Probability of spam: 0.9980\n"
          ]
        }
      ],
      "source": [
        "\n",
        "test_emails = [\n",
        "    \"lottery winner claim prize money\",\n",
        "    \"meeting tomorrow at 3pm\",\n",
        "    \"buy cheap watches online\"\n",
        "]\n",
        "num_ham = num_emails - num_spam\n",
        "for email_text in test_emails:\n",
        "    probability = predict_naive_bayes(email_text, model, num_spam, num_ham)\n",
        "    print(f\"Email: {email_text}\")\n",
        "    print(f\"Probability of spam: {probability:.4f}\")"
      ]
    },
    {
      "cell_type": "markdown",
      "metadata": {
        "id": "GNvKyJGvchH7"
      },
      "source": [
        "## Step 6: Wrap-up\n",
        "1. How well did your model perform?\n",
        "2. What challenges did you face while implementing it from scratch?\n",
        "3. What improvements would you suggest for the future?"
      ]
    },
    {
      "cell_type": "markdown",
      "source": [
        "1)This Naive Bayes model shows promising initial results in identifying spam emails. It correctly assigned high spam probabilities to emails with typical spam content, while assigning low probabilities to legitimate emails.\n",
        "2) I faced challenges in Cleaning and preparing the text data for analysis and also in implementing the prediction function using math.log\n",
        "3)Using a larger and more diverse dataset for training can improve the model's ability to generalize to different types of emails"
      ],
      "metadata": {
        "id": "EuM4UbNWi2q_"
      }
    },
    {
      "cell_type": "markdown",
      "source": [],
      "metadata": {
        "id": "Z8cr7MC1gPTS"
      }
    },
    {
      "cell_type": "markdown",
      "metadata": {
        "id": "rNCLZthpchH7"
      },
      "source": [
        "### Notes (if any):"
      ]
    }
  ],
  "metadata": {
    "kernelspec": {
      "display_name": "Python 3",
      "language": "python",
      "name": "python3"
    },
    "language_info": {
      "name": "python"
    },
    "colab": {
      "provenance": []
    }
  },
  "nbformat": 4,
  "nbformat_minor": 0
}