{
  "cells": [
    {
      "cell_type": "markdown",
      "metadata": {
        "id": "3cv4PHzIchH0"
      },
      "source": [
        "# 🧑‍🏫 Task 1 Part 1: Building a Spam Classifier with Naive Bayes\n",
        "In this exercise, you'll implement a spam classifier using the **Naive Bayes algorithm** . You'll work with email data to classify messages as spam or non-spam (ham). Follow the steps below and fill in the code where indicated.\n",
        "\n",
        "**Objective:** Implement all key components of an ML pipeline (except for data handling).\n",
        "\n",
        "**Allowed Libraries:** `pandas`, `numpy`\n",
        "\n",
        "**Not Allowed:** Any pre-built ML algorithms or functions like those from `sklearn`.\n",
        "\n",
        "Follow the instructions step-by-step and answer the questions!"
      ]
    },
    {
      "cell_type": "markdown",
      "metadata": {
        "id": "2doxMrI8chH2"
      },
      "source": [
        "## Step 1: Data Loading and Preprocessing\n",
        "First, let's load and examine our data."
      ]
    },
    {
      "cell_type": "markdown",
      "source": [],
      "metadata": {
        "id": "9a6lmM4ic6IJ"
      }
    },
    {
      "cell_type": "code",
      "execution_count": 5,
      "metadata": {
        "id": "MJ9t6x5echH2"
      },
      "outputs": [],
      "source": [
        "import pandas as pd\n",
        "emails = pd.read_csv('emails.csv')# Your code here"
      ]
    },
    {
      "cell_type": "code",
      "execution_count": 6,
      "metadata": {
        "id": "Bbe3CIxqchH3",
        "outputId": "a8147d7f-11ac-47b8-dc1a-f413e894b0c8",
        "colab": {
          "base_uri": "https://localhost:8080/"
        }
      },
      "outputs": [
        {
          "output_type": "stream",
          "name": "stdout",
          "text": [
            "                                                text  spam\n",
            "0  Subject: naturally irresistible your corporate...     1\n",
            "1  Subject: the stock trading gunslinger  fanny i...     1\n",
            "2  Subject: unbelievable new homes made easy  im ...     1\n",
            "3  Subject: 4 color printing special  request add...     1\n",
            "4  Subject: do not have money , get software cds ...     1\n"
          ]
        }
      ],
      "source": [
        "# Display the first few rows\n",
        "print(emails.head())\n",
        "\n",
        "# HINT: Use pd.read_csv() to load the data\n",
        "# HINT: The DataFrame should have 'text' and 'spam' columns"
      ]
    },
    {
      "cell_type": "code",
      "execution_count": 7,
      "metadata": {
        "id": "NHFjL0nZchH4",
        "outputId": "895a551a-cec0-416d-a2d4-339d8b6e50ce",
        "colab": {
          "base_uri": "https://localhost:8080/"
        }
      },
      "outputs": [
        {
          "output_type": "stream",
          "name": "stdout",
          "text": [
            "text    0\n",
            "spam    0\n",
            "dtype: int64\n",
            "Missing values in 'text': 0\n",
            "Missing values in 'spam': 0\n"
          ]
        }
      ],
      "source": [
        "#Analyse the data and remove or modify rows with missing or invalid values\n",
        "# Check for missing values in the entire DataFrame\n",
        "missing_values = emails.isnull().sum()\n",
        "print(missing_values)\n",
        "\n",
        "# Check for missing values in specific columns (e.g., 'text', 'spam')\n",
        "missing_text = emails['text'].isnull().sum()\n",
        "missing_spam = emails['spam'].isnull().sum()\n",
        "print(f\"Missing values in 'text': {missing_text}\")\n",
        "print(f\"Missing values in 'spam': {missing_spam}\")"
      ]
    },
    {
      "cell_type": "markdown",
      "metadata": {
        "id": "ZgwrhQzdchH5"
      },
      "source": [
        "## Step 2: Text Preprocessing\n",
        "We need to process each email to extract unique words."
      ]
    },
    {
      "cell_type": "code",
      "execution_count": 8,
      "metadata": {
        "id": "rKrlRp23chH5"
      },
      "outputs": [],
      "source": [
        "def process_email(text):\n",
        "    \"\"\"\n",
        "    Convert email text to a list of unique, lowercase words\n",
        "\n",
        "    Parameters:\n",
        "        text (str): The email text\n",
        "\n",
        "    Returns:\n",
        "        list: List of unique words in the email\n",
        "    \"\"\"\n",
        "    # TODO: Implement the preprocessing function\n",
        "    # 1. Convert text to lowercase\n",
        "    text = text.lower()\n",
        "    # 2. Split into words\n",
        "    words = text.split()\n",
        "    # 3. Remove duplicates\n",
        "    unique_words = list(set(words))\n",
        "    return unique_words\n",
        "\n",
        "    # Your code here\n",
        "\n",
        "    # HINT: Use text.lower() for lowercase conversion\n",
        "    # HINT: Use split() to convert text to words\n",
        "    # HINT: Use set() to remove duplicates\n",
        "    pass"
      ]
    },
    {
      "cell_type": "code",
      "execution_count": 9,
      "metadata": {
        "id": "mWhjOu0zchH5"
      },
      "outputs": [],
      "source": [
        "# Apply preprocessing to all emails\n",
        "emails['words'] = emails['text'].apply(process_email)\n"
      ]
    },
    {
      "cell_type": "code",
      "execution_count": 11,
      "metadata": {
        "id": "l2vH79fqchH5",
        "outputId": "c63a0b7b-0935-4b18-cae1-798a372deaf5",
        "colab": {
          "base_uri": "https://localhost:8080/"
        }
      },
      "outputs": [
        {
          "output_type": "stream",
          "name": "stdout",
          "text": [
            "['clear', 'we', 'full', 'hard', 'without', 'hotat', 'distinctive', 'will', 'unlimited', 'ordered', 'practicable', 'hand', 'world', 'identity', 'portfolio', 'within', ',', '100', 'affordability', 'satisfaction', 'logos', 'a', ';', 'ieader', 'subject:', 'no', 'in', 'even', 'lt', 'fees', 'promptness', 'break', 'original', '.', 'provide', 'drafts', ':', 'this', 'irresistible', 'to', 'system', 'outstanding', 'really', 'it', 'done', 'love', 'change', 'efforts', 't', 'of', 'isguite', 'isoverwhelminq', 'easy', 'content', 'use', 'market', 'naturally', 'for', 'catchy', 'marketing', 'havinq', 'all', 'website', 'gaps', 'effective', 'logo', 'days', 'our', 'changes', 'corporate', 'statlonery', 'company', 'list', '_', 'at', 'business', 'promise', 'reflect', 'shouldn', 'your', 'stylish', 'you', 'not', 'recollect', 'task', 'letsyou', '-', 'see', 'here', 'that', 'made', 'do', 'collaboration', 'three', \"'\", 'formats', 'amount', 'provided', 'make', 'ciear', 'budget', 'nowadays', 'are', 'iogo', 'look', 'organization', 'have', 'through', 'but', 'more', 'and', 'information', 'automaticaily', 'guaranteed', 'good', '%', 'extra', 'with', 'benefits', 'surethat', 'be', 'management', 'structure', 'aim', 'the', 'convenience', 'suqgestions', 'much', 'products', 'image', 'interested', 'result', 'its', 'creativeness', 'stationery', 'easier', 'specially', 'is', 'become']\n"
          ]
        }
      ],
      "source": [
        "# Test your preprocessing by testing on the first email\n",
        "# Get the text of the first email\n",
        "first_email_text = emails['text'][0]\n",
        "\n",
        "# Apply the preprocessing function\n",
        "processed_words = process_email(first_email_text)\n",
        "\n",
        "# Print the processed words\n",
        "print(processed_words) # To see the output, run the code.\n"
      ]
    },
    {
      "cell_type": "markdown",
      "metadata": {
        "id": "NUyE_4zochH5"
      },
      "source": [
        "## Step 3: Calculate Prior Probabilities\n",
        "Let's calculate the basic probability of an email being spam."
      ]
    },
    {
      "cell_type": "code",
      "execution_count": 12,
      "metadata": {
        "id": "O3zgDvbfchH6",
        "outputId": "f5e7a8d5-6299-4064-e16e-0cf2e327b9e2",
        "colab": {
          "base_uri": "https://localhost:8080/"
        }
      },
      "outputs": [
        {
          "output_type": "stream",
          "name": "stdout",
          "text": [
            "Number of emails: 5728\n",
            "Number of spam emails: 1368\n",
            "Probability of spam: 0.2388\n"
          ]
        }
      ],
      "source": [
        "# 1. Total number of emails\n",
        "num_emails = len(emails)\n",
        "\n",
        "# 2. Number of spam emails\n",
        "num_spam = sum(emails['spam'])\n",
        "\n",
        "# 3. Probability of spam\n",
        "spam_probability = num_spam / num_emails\n",
        "\n",
        "print(f\"Number of emails: {num_emails}\")\n",
        "print(f\"Number of spam emails: {num_spam}\")\n",
        "print(f\"Probability of spam: {spam_probability:.4f}\")\n",
        "\n",
        "# HINT: Use len(emails) for total count\n",
        "# HINT: Use sum(emails['spam']) for spam count"
      ]
    },
    {
      "cell_type": "markdown",
      "metadata": {
        "id": "8SXAUrK_chH6"
      },
      "source": [
        "## Step 4: Training the Model\n",
        "Now we'll build our Naive Bayes model by counting word occurrences in spam and ham emails."
      ]
    },
    {
      "cell_type": "code",
      "execution_count": 13,
      "metadata": {
        "id": "GAmFy_cIchH6"
      },
      "outputs": [],
      "source": [
        "def train_naive_bayes(emails_data):\n",
        "    \"\"\"\n",
        "    Train a Naive Bayes model on email data\n",
        "\n",
        "    Parameters:\n",
        "        emails_data (DataFrame): DataFrame with 'words' and 'spam' columns\n",
        "\n",
        "    Returns:\n",
        "        dict: Dictionary with word frequencies in spam and ham emails\n",
        "    \"\"\"\n",
        "    # TODO: Create a dictionary to store word frequencies\n",
        "    # For each word, store counts of its occurrence in spam and ham emails\n",
        "    model = {}\n",
        "\n",
        "    for index, row in emails_data.iterrows():\n",
        "        words = row['words']\n",
        "        is_spam = row['spam']\n",
        "\n",
        "        # Update word frequencies in the model\n",
        "        for word in words:\n",
        "            if word not in model:\n",
        "                model[word] = {'spam': 1, 'ham': 1}  # Laplace smoothing\n",
        "\n",
        "            if is_spam:\n",
        "                model[word]['spam'] += 1\n",
        "            else:\n",
        "                model[word]['ham'] += 1\n",
        "    # HINT: Initialize counts with 1 (Laplace smoothing)\n",
        "    # HINT: Structure: model[word] = {'spam': count, 'ham': count}\n",
        "\n",
        "    return model"
      ]
    },
    {
      "cell_type": "code",
      "execution_count": 14,
      "metadata": {
        "id": "2OkF4uDXchH6"
      },
      "outputs": [],
      "source": [
        "model = train_naive_bayes(emails)"
      ]
    },
    {
      "cell_type": "code",
      "execution_count": 15,
      "metadata": {
        "id": "Sktze6v_chH6",
        "outputId": "2c122e66-21a6-41c6-eec3-8e062f24bab6",
        "colab": {
          "base_uri": "https://localhost:8080/"
        }
      },
      "outputs": [
        {
          "output_type": "stream",
          "name": "stdout",
          "text": [
            "Word: lottery\n",
            "Spam count: 9\n",
            "Ham count: 1\n"
          ]
        }
      ],
      "source": [
        "# Test your model with some words\n",
        "# Examples: 'lottery', 'sale', 'meeting'\n",
        "if \"lottery\" in model:\n",
        "    print(f\"Word: lottery\")\n",
        "    print(f\"Spam count: {model['lottery']['spam']}\")\n",
        "    print(f\"Ham count: {model['lottery']['ham']}\")\n",
        "else:\n",
        "    print(\"Word 'lottery' not found in the model.\")\n",
        "\n"
      ]
    },
    {
      "cell_type": "markdown",
      "metadata": {
        "id": "1h_PZtvhchH6"
      },
      "source": [
        "## Step 5: Implementing the Prediction Function\n",
        "Finally, let's implement the function to predict whether an email is spam."
      ]
    },
    {
      "cell_type": "code",
      "execution_count": 16,
      "metadata": {
        "id": "ESmJu_1RchH6"
      },
      "outputs": [],
      "source": [
        "import math\n",
        "\n",
        "def predict_naive_bayes(email_text, model, num_spam, num_ham):\n",
        "    \"\"\"\n",
        "    Predict whether an email is spam using Naive Bayes\n",
        "\n",
        "    Parameters:\n",
        "        email_text (str): The text of the email to classify\n",
        "        model (dict): Trained Naive Bayes model\n",
        "        num_spam (int): Number of spam emails in training data\n",
        "        num_ham (int): Number of ham emails in training data\n",
        "\n",
        "    Returns:\n",
        "        float: Probability that the email is spam\n",
        "    \"\"\"\n",
        "    words = process_email(email_text)\n",
        "\n",
        "    # Calculate probability using the Naive Bayes formula\n",
        "    log_prob_spam = math.log(num_spam / (num_spam + num_ham))\n",
        "    log_prob_ham = math.log(num_ham / (num_spam + num_ham))\n",
        "\n",
        "    for word in words:\n",
        "        if word in model:\n",
        "            log_prob_spam += math.log(model[word]['spam'] / num_spam)\n",
        "            log_prob_ham += math.log(model[word]['ham'] / num_ham)\n",
        "\n",
        "    # Calculate the probability of spam\n",
        "    prob_spam = math.exp(log_prob_spam) / (math.exp(log_prob_spam) + math.exp(log_prob_ham))\n",
        "\n",
        "    return prob_spam\n",
        "    pass"
      ]
    },
    {
      "cell_type": "code",
      "execution_count": 18,
      "metadata": {
        "id": "o3rNW6rochH6",
        "outputId": "2dfaa755-6da9-486d-921f-048b957beb87",
        "colab": {
          "base_uri": "https://localhost:8080/"
        }
      },
      "outputs": [
        {
          "output_type": "stream",
          "name": "stdout",
          "text": [
            "Email: lottery winner claim prize money\n",
            "Probability of spam: 0.9999\n",
            "Email: meeting tomorrow at 3pm\n",
            "Probability of spam: 0.0013\n",
            "Email: buy cheap watches online\n",
            "Probability of spam: 0.9980\n"
          ]
        }
      ],
      "source": [
        "# Test your prediction function\n",
        "test_emails = [\n",
        "    \"lottery winner claim prize money\",\n",
        "    \"meeting tomorrow at 3pm\",\n",
        "    \"buy cheap watches online\"\n",
        "]\n",
        "num_ham = num_emails - num_spam\n",
        "for email_text in test_emails:\n",
        "    probability = predict_naive_bayes(email_text, model, num_spam, num_ham)\n",
        "    print(f\"Email: {email_text}\")\n",
        "    print(f\"Probability of spam: {probability:.4f}\")"
      ]
    },
    {
      "cell_type": "markdown",
      "metadata": {
        "id": "GNvKyJGvchH7"
      },
      "source": [
        "## Step 6: Wrap-up\n",
        "1. How well did your model perform?\n",
        "2. What challenges did you face while implementing it from scratch?\n",
        "3. What improvements would you suggest for the future?"
      ]
    },
    {
      "cell_type": "markdown",
      "source": [
        "1)This Naive Bayes model shows promising initial results in identifying spam emails. It correctly assigned high spam probabilities to emails with typical spam content, while assigning low probabilities to legitimate emails.\n",
        "2) I faced challenges in Cleaning and preparing the text data for analysis and also in implementing the prediction function using math.log\n",
        "3)Using a larger and more diverse dataset for training can improve the model's ability to generalize to different types of emails"
      ],
      "metadata": {
        "id": "EuM4UbNWi2q_"
      }
    },
    {
      "cell_type": "markdown",
      "source": [],
      "metadata": {
        "id": "Z8cr7MC1gPTS"
      }
    },
    {
      "cell_type": "markdown",
      "metadata": {
        "id": "rNCLZthpchH7"
      },
      "source": [
        "### Notes (if any):"
      ]
    }
  ],
  "metadata": {
    "kernelspec": {
      "display_name": "Python 3",
      "language": "python",
      "name": "python3"
    },
    "language_info": {
      "name": "python"
    },
    "colab": {
      "provenance": []
    }
  },
  "nbformat": 4,
  "nbformat_minor": 0
}